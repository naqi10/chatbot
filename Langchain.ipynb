{
 "cells": [
  {
   "cell_type": "code",
   "execution_count": 1,
   "id": "6d9e5532-ca62-4ce0-8a33-8408bb0f9b7b",
   "metadata": {},
   "outputs": [],
   "source": [
    "import openai\n",
    "import langchain\n",
    "import os"
   ]
  },
  {
   "cell_type": "code",
   "execution_count": 2,
   "id": "2e73cd41-52a6-4213-aaab-3903057abb3a",
   "metadata": {},
   "outputs": [],
   "source": [
    "from transformers import AutoModelForCausalLM, AutoTokenizer\n",
    "model = AutoModelForCausalLM.from_pretrained(\"gpt2\")\n",
    "tokenizer = AutoTokenizer.from_pretrained(\"gpt2\")\n"
   ]
  },
  {
   "cell_type": "code",
   "execution_count": 6,
   "id": "3c028923-9b7d-46e1-903c-2c22ddd2224e",
   "metadata": {},
   "outputs": [],
   "source": [
    "tokenizer.pad_token = tokenizer.eos_token"
   ]
  },
  {
   "cell_type": "code",
   "execution_count": 7,
   "id": "6463bcf5-c3c3-4e45-b257-bfae8b56dcc4",
   "metadata": {},
   "outputs": [],
   "source": [
    "input_text = \"What is the future of AI?\"\n",
    "input_ids = tokenizer.encode(input_text, return_tensors=\"pt\")\n"
   ]
  },
  {
   "cell_type": "code",
   "execution_count": 8,
   "id": "2b75b025-892c-4e54-939f-3c99c147f712",
   "metadata": {},
   "outputs": [],
   "source": [
    "attention_mask = input_ids.ne(tokenizer.pad_token_id).long()  # Create attention mask\n",
    "output = model.generate(\n",
    "    input_ids, \n",
    "    attention_mask=attention_mask,  # Fix attention mask issue\n",
    "    max_length=100, \n",
    "    num_return_sequences=1, \n",
    "    pad_token_id=tokenizer.eos_token_id\n",
    ")"
   ]
  },
  {
   "cell_type": "code",
   "execution_count": 9,
   "id": "d8e709ac-421a-4c8e-8b91-feb3ee5b1cc2",
   "metadata": {},
   "outputs": [
    {
     "name": "stdout",
     "output_type": "stream",
     "text": [
      "What is the future of AI?\n",
      "\n",
      "AI is a new field of research that is being explored by many different fields. The most important of these is the field of artificial intelligence. The field is called artificial intelligence.\n",
      "\n",
      "The field is called artificial intelligence because it is the most advanced and most powerful form of artificial intelligence. It is the most advanced form of artificial intelligence. It is the most advanced form of artificial intelligence. It is the most advanced form of artificial intelligence. It is the most\n"
     ]
    }
   ],
   "source": [
    "generated_text = tokenizer.decode(output[0], skip_special_tokens=True)\n",
    "print(generated_text)"
   ]
  },
  {
   "cell_type": "code",
   "execution_count": null,
   "id": "2eb30feb-49d7-49e8-acc5-84f3a2ae7ecd",
   "metadata": {},
   "outputs": [],
   "source": []
  }
 ],
 "metadata": {
  "kernelspec": {
   "display_name": "Python 3 (ipykernel)",
   "language": "python",
   "name": "python3"
  },
  "language_info": {
   "codemirror_mode": {
    "name": "ipython",
    "version": 3
   },
   "file_extension": ".py",
   "mimetype": "text/x-python",
   "name": "python",
   "nbconvert_exporter": "python",
   "pygments_lexer": "ipython3",
   "version": "3.12.5"
  }
 },
 "nbformat": 4,
 "nbformat_minor": 5
}
